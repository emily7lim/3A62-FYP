{
 "cells": [
  {
   "cell_type": "markdown",
   "metadata": {},
   "source": [
    "This is just a concised part of the model, with a selection of the pretrained model to be used. The actual notebook is submitted at another location."
   ]
  },
  {
   "cell_type": "code",
   "execution_count": 1,
   "metadata": {},
   "outputs": [
    {
     "name": "stdout",
     "output_type": "stream",
     "text": [
      "Defaulting to user installation because normal site-packages is not writeableNote: you may need to restart the kernel to use updated packages.\n"
     ]
    },
    {
     "name": "stderr",
     "output_type": "stream",
     "text": [
      "WARNING: You are using pip version 21.3.1; however, version 22.0.3 is available.\n",
      "You should consider upgrading via the 'C:\\Program Files\\Python39\\python.exe -m pip install --upgrade pip' command."
     ]
    },
    {
     "name": "stdout",
     "output_type": "stream",
     "text": [
      "\n",
      "Requirement already satisfied: tensorflow in c:\\users\\emily\\appdata\\roaming\\python\\python39\\site-packages (2.7.0)\n",
      "Requirement already satisfied: wheel<1.0,>=0.32.0 in c:\\users\\emily\\appdata\\roaming\\python\\python39\\site-packages (from tensorflow) (0.37.1)\n",
      "Requirement already satisfied: opt-einsum>=2.3.2 in c:\\users\\emily\\appdata\\roaming\\python\\python39\\site-packages (from tensorflow) (3.3.0)\n",
      "Requirement already satisfied: gast<0.5.0,>=0.2.1 in c:\\users\\emily\\appdata\\roaming\\python\\python39\\site-packages (from tensorflow) (0.4.0)\n",
      "Requirement already satisfied: flatbuffers<3.0,>=1.12 in c:\\users\\emily\\appdata\\roaming\\python\\python39\\site-packages (from tensorflow) (2.0)\n",
      "Requirement already satisfied: protobuf>=3.9.2 in c:\\users\\emily\\appdata\\roaming\\python\\python39\\site-packages (from tensorflow) (3.19.1)\n",
      "Requirement already satisfied: termcolor>=1.1.0 in c:\\users\\emily\\appdata\\roaming\\python\\python39\\site-packages (from tensorflow) (1.1.0)\n",
      "Requirement already satisfied: keras<2.8,>=2.7.0rc0 in c:\\users\\emily\\appdata\\roaming\\python\\python39\\site-packages (from tensorflow) (2.7.0)\n",
      "Requirement already satisfied: grpcio<2.0,>=1.24.3 in c:\\users\\emily\\appdata\\roaming\\python\\python39\\site-packages (from tensorflow) (1.43.0)\n",
      "Requirement already satisfied: wrapt>=1.11.0 in c:\\users\\emily\\appdata\\roaming\\python\\python39\\site-packages (from tensorflow) (1.12.1)\n",
      "Requirement already satisfied: astunparse>=1.6.0 in c:\\users\\emily\\appdata\\roaming\\python\\python39\\site-packages (from tensorflow) (1.6.3)\n",
      "Requirement already satisfied: tensorboard~=2.6 in c:\\users\\emily\\appdata\\roaming\\python\\python39\\site-packages (from tensorflow) (2.7.0)\n",
      "Requirement already satisfied: keras-preprocessing>=1.1.1 in c:\\users\\emily\\appdata\\roaming\\python\\python39\\site-packages (from tensorflow) (1.1.2)\n",
      "Requirement already satisfied: six>=1.12.0 in c:\\users\\emily\\appdata\\roaming\\python\\python39\\site-packages (from tensorflow) (1.16.0)\n",
      "Requirement already satisfied: tensorflow-estimator<2.8,~=2.7.0rc0 in c:\\users\\emily\\appdata\\roaming\\python\\python39\\site-packages (from tensorflow) (2.7.0)\n",
      "Requirement already satisfied: typing-extensions>=3.6.6 in c:\\users\\emily\\appdata\\roaming\\python\\python39\\site-packages (from tensorflow) (4.0.0)\n",
      "Requirement already satisfied: absl-py>=0.4.0 in c:\\users\\emily\\appdata\\roaming\\python\\python39\\site-packages (from tensorflow) (1.0.0)\n",
      "Requirement already satisfied: libclang>=9.0.1 in c:\\users\\emily\\appdata\\roaming\\python\\python39\\site-packages (from tensorflow) (12.0.0)\n",
      "Requirement already satisfied: tensorflow-io-gcs-filesystem>=0.21.0 in c:\\users\\emily\\appdata\\roaming\\python\\python39\\site-packages (from tensorflow) (0.23.1)\n",
      "Requirement already satisfied: numpy>=1.14.5 in c:\\users\\emily\\appdata\\roaming\\python\\python39\\site-packages (from tensorflow) (1.21.3)\n",
      "Requirement already satisfied: google-pasta>=0.1.1 in c:\\users\\emily\\appdata\\roaming\\python\\python39\\site-packages (from tensorflow) (0.2.0)\n",
      "Requirement already satisfied: h5py>=2.9.0 in c:\\users\\emily\\appdata\\roaming\\python\\python39\\site-packages (from tensorflow) (3.6.0)\n",
      "Requirement already satisfied: tensorboard-data-server<0.7.0,>=0.6.0 in c:\\users\\emily\\appdata\\roaming\\python\\python39\\site-packages (from tensorboard~=2.6->tensorflow) (0.6.1)\n",
      "Requirement already satisfied: google-auth-oauthlib<0.5,>=0.4.1 in c:\\users\\emily\\appdata\\roaming\\python\\python39\\site-packages (from tensorboard~=2.6->tensorflow) (0.4.6)\n",
      "Requirement already satisfied: google-auth<3,>=1.6.3 in c:\\users\\emily\\appdata\\roaming\\python\\python39\\site-packages (from tensorboard~=2.6->tensorflow) (2.3.3)\n",
      "Requirement already satisfied: requests<3,>=2.21.0 in c:\\users\\emily\\appdata\\roaming\\python\\python39\\site-packages (from tensorboard~=2.6->tensorflow) (2.26.0)\n",
      "Requirement already satisfied: markdown>=2.6.8 in c:\\users\\emily\\appdata\\roaming\\python\\python39\\site-packages (from tensorboard~=2.6->tensorflow) (3.3.6)\n",
      "Requirement already satisfied: setuptools>=41.0.0 in c:\\users\\emily\\appdata\\roaming\\python\\python39\\site-packages (from tensorboard~=2.6->tensorflow) (60.3.1)\n",
      "Requirement already satisfied: werkzeug>=0.11.15 in c:\\users\\emily\\appdata\\roaming\\python\\python39\\site-packages (from tensorboard~=2.6->tensorflow) (1.0.1)\n",
      "Requirement already satisfied: tensorboard-plugin-wit>=1.6.0 in c:\\users\\emily\\appdata\\roaming\\python\\python39\\site-packages (from tensorboard~=2.6->tensorflow) (1.8.1)\n",
      "Requirement already satisfied: pyasn1-modules>=0.2.1 in c:\\users\\emily\\appdata\\roaming\\python\\python39\\site-packages (from google-auth<3,>=1.6.3->tensorboard~=2.6->tensorflow) (0.2.8)\n",
      "Requirement already satisfied: rsa<5,>=3.1.4 in c:\\users\\emily\\appdata\\roaming\\python\\python39\\site-packages (from google-auth<3,>=1.6.3->tensorboard~=2.6->tensorflow) (4.8)\n",
      "Requirement already satisfied: cachetools<5.0,>=2.0.0 in c:\\users\\emily\\appdata\\roaming\\python\\python39\\site-packages (from google-auth<3,>=1.6.3->tensorboard~=2.6->tensorflow) (4.2.4)\n",
      "Requirement already satisfied: requests-oauthlib>=0.7.0 in c:\\users\\emily\\appdata\\roaming\\python\\python39\\site-packages (from google-auth-oauthlib<0.5,>=0.4.1->tensorboard~=2.6->tensorflow) (1.3.0)\n",
      "Requirement already satisfied: importlib-metadata>=4.4 in c:\\users\\emily\\appdata\\roaming\\python\\python39\\site-packages (from markdown>=2.6.8->tensorboard~=2.6->tensorflow) (4.10.0)\n",
      "Requirement already satisfied: urllib3<1.27,>=1.21.1 in c:\\users\\emily\\appdata\\roaming\\python\\python39\\site-packages (from requests<3,>=2.21.0->tensorboard~=2.6->tensorflow) (1.26.7)\n",
      "Requirement already satisfied: idna<4,>=2.5 in c:\\users\\emily\\appdata\\roaming\\python\\python39\\site-packages (from requests<3,>=2.21.0->tensorboard~=2.6->tensorflow) (3.3)\n",
      "Requirement already satisfied: charset-normalizer~=2.0.0 in c:\\users\\emily\\appdata\\roaming\\python\\python39\\site-packages (from requests<3,>=2.21.0->tensorboard~=2.6->tensorflow) (2.0.7)\n",
      "Requirement already satisfied: certifi>=2017.4.17 in c:\\users\\emily\\appdata\\roaming\\python\\python39\\site-packages (from requests<3,>=2.21.0->tensorboard~=2.6->tensorflow) (2021.10.8)\n",
      "Requirement already satisfied: zipp>=0.5 in c:\\users\\emily\\appdata\\roaming\\python\\python39\\site-packages (from importlib-metadata>=4.4->markdown>=2.6.8->tensorboard~=2.6->tensorflow) (3.7.0)\n",
      "Requirement already satisfied: pyasn1<0.5.0,>=0.4.6 in c:\\users\\emily\\appdata\\roaming\\python\\python39\\site-packages (from pyasn1-modules>=0.2.1->google-auth<3,>=1.6.3->tensorboard~=2.6->tensorflow) (0.4.8)\n",
      "Requirement already satisfied: oauthlib>=3.0.0 in c:\\users\\emily\\appdata\\roaming\\python\\python39\\site-packages (from requests-oauthlib>=0.7.0->google-auth-oauthlib<0.5,>=0.4.1->tensorboard~=2.6->tensorflow) (3.1.1)\n"
     ]
    },
    {
     "name": "stderr",
     "output_type": "stream",
     "text": [
      "\n"
     ]
    },
    {
     "name": "stdout",
     "output_type": "stream",
     "text": [
      "Defaulting to user installation because normal site-packages is not writeable\n",
      "Requirement already satisfied: datasets in c:\\users\\emily\\appdata\\roaming\\python\\python39\\site-packages (1.15.1)\n",
      "Requirement already satisfied: huggingface-hub<1.0.0,>=0.1.0 in c:\\users\\emily\\appdata\\roaming\\python\\python39\\site-packages (from datasets) (0.1.2)\n",
      "Requirement already satisfied: requests>=2.19.0 in c:\\users\\emily\\appdata\\roaming\\python\\python39\\site-packages (from datasets) (2.26.0)\n",
      "Note: you may need to restart the kernel to use updated packages.\n"
     ]
    },
    {
     "name": "stderr",
     "output_type": "stream",
     "text": [
      "WARNING: You are using pip version 21.3.1; however, version 22.0.3 is available.\n",
      "You should consider upgrading via the 'C:\\Program Files\\Python39\\python.exe -m pip install --upgrade pip' command.\n"
     ]
    },
    {
     "name": "stdout",
     "output_type": "stream",
     "text": [
      "Requirement already satisfied: pandas in c:\\users\\emily\\appdata\\roaming\\python\\python39\\site-packages (from datasets) (1.3.4)\n",
      "Requirement already satisfied: fsspec[http]>=2021.05.0 in c:\\users\\emily\\appdata\\roaming\\python\\python39\\site-packages (from datasets) (2021.11.0)\n",
      "Requirement already satisfied: xxhash in c:\\users\\emily\\appdata\\roaming\\python\\python39\\site-packages (from datasets) (2.0.2)\n",
      "Requirement already satisfied: packaging in c:\\users\\emily\\appdata\\roaming\\python\\python39\\site-packages (from datasets) (21.3)\n",
      "Requirement already satisfied: dill in c:\\users\\emily\\appdata\\roaming\\python\\python39\\site-packages (from datasets) (0.3.4)\n",
      "Requirement already satisfied: multiprocess in c:\\users\\emily\\appdata\\roaming\\python\\python39\\site-packages (from datasets) (0.70.12.2)\n",
      "Requirement already satisfied: aiohttp in c:\\users\\emily\\appdata\\roaming\\python\\python39\\site-packages (from datasets) (3.8.1)\n",
      "Requirement already satisfied: pyarrow!=4.0.0,>=1.0.0 in c:\\users\\emily\\appdata\\roaming\\python\\python39\\site-packages (from datasets) (6.0.0)\n",
      "Requirement already satisfied: numpy>=1.17 in c:\\users\\emily\\appdata\\roaming\\python\\python39\\site-packages (from datasets) (1.21.3)\n",
      "Requirement already satisfied: tqdm>=4.62.1 in c:\\users\\emily\\appdata\\roaming\\python\\python39\\site-packages (from datasets) (4.62.3)\n",
      "Requirement already satisfied: filelock in c:\\users\\emily\\appdata\\roaming\\python\\python39\\site-packages (from huggingface-hub<1.0.0,>=0.1.0->datasets) (3.4.0)\n",
      "Requirement already satisfied: typing-extensions>=3.7.4.3 in c:\\users\\emily\\appdata\\roaming\\python\\python39\\site-packages (from huggingface-hub<1.0.0,>=0.1.0->datasets) (4.0.0)\n",
      "Requirement already satisfied: pyyaml in c:\\users\\emily\\appdata\\roaming\\python\\python39\\site-packages (from huggingface-hub<1.0.0,>=0.1.0->datasets) (6.0)\n",
      "Requirement already satisfied: pyparsing!=3.0.5,>=2.0.2 in c:\\users\\emily\\appdata\\roaming\\python\\python39\\site-packages (from packaging->datasets) (2.4.7)\n",
      "Requirement already satisfied: charset-normalizer~=2.0.0 in c:\\users\\emily\\appdata\\roaming\\python\\python39\\site-packages (from requests>=2.19.0->datasets) (2.0.7)\n",
      "Requirement already satisfied: certifi>=2017.4.17 in c:\\users\\emily\\appdata\\roaming\\python\\python39\\site-packages (from requests>=2.19.0->datasets) (2021.10.8)\n",
      "Requirement already satisfied: idna<4,>=2.5 in c:\\users\\emily\\appdata\\roaming\\python\\python39\\site-packages (from requests>=2.19.0->datasets) (3.3)\n",
      "Requirement already satisfied: urllib3<1.27,>=1.21.1 in c:\\users\\emily\\appdata\\roaming\\python\\python39\\site-packages (from requests>=2.19.0->datasets) (1.26.7)\n",
      "Requirement already satisfied: colorama in c:\\users\\emily\\appdata\\roaming\\python\\python39\\site-packages (from tqdm>=4.62.1->datasets) (0.4.4)\n",
      "Requirement already satisfied: yarl<2.0,>=1.0 in c:\\users\\emily\\appdata\\roaming\\python\\python39\\site-packages (from aiohttp->datasets) (1.7.2)\n",
      "Requirement already satisfied: aiosignal>=1.1.2 in c:\\users\\emily\\appdata\\roaming\\python\\python39\\site-packages (from aiohttp->datasets) (1.2.0)\n",
      "Requirement already satisfied: frozenlist>=1.1.1 in c:\\users\\emily\\appdata\\roaming\\python\\python39\\site-packages (from aiohttp->datasets) (1.2.0)\n",
      "Requirement already satisfied: multidict<7.0,>=4.5 in c:\\users\\emily\\appdata\\roaming\\python\\python39\\site-packages (from aiohttp->datasets) (5.2.0)\n",
      "Requirement already satisfied: async-timeout<5.0,>=4.0.0a3 in c:\\users\\emily\\appdata\\roaming\\python\\python39\\site-packages (from aiohttp->datasets) (4.0.1)\n",
      "Requirement already satisfied: attrs>=17.3.0 in c:\\users\\emily\\appdata\\roaming\\python\\python39\\site-packages (from aiohttp->datasets) (20.3.0)\n",
      "Requirement already satisfied: pytz>=2017.3 in c:\\users\\emily\\appdata\\roaming\\python\\python39\\site-packages (from pandas->datasets) (2021.3)\n",
      "Requirement already satisfied: python-dateutil>=2.7.3 in c:\\users\\emily\\appdata\\roaming\\python\\python39\\site-packages (from pandas->datasets) (2.8.2)\n",
      "Requirement already satisfied: six>=1.5 in c:\\users\\emily\\appdata\\roaming\\python\\python39\\site-packages (from python-dateutil>=2.7.3->pandas->datasets) (1.16.0)\n",
      "Defaulting to user installation because normal site-packages is not writeable\n",
      "Requirement already satisfied: torch in c:\\users\\emily\\appdata\\roaming\\python\\python39\\site-packages (1.10.0)\n",
      "Requirement already satisfied: typing-extensions in c:\\users\\emily\\appdata\\roaming\\python\\python39\\site-packages (from torch) (4.0.0)\n",
      "Note: you may need to restart the kernel to use updated packages.\n"
     ]
    },
    {
     "name": "stderr",
     "output_type": "stream",
     "text": [
      "WARNING: You are using pip version 21.3.1; however, version 22.0.3 is available.\n",
      "You should consider upgrading via the 'C:\\Program Files\\Python39\\python.exe -m pip install --upgrade pip' command.\n"
     ]
    },
    {
     "name": "stdout",
     "output_type": "stream",
     "text": [
      "Defaulting to user installation because normal site-packages is not writeable\n",
      "Requirement already satisfied: nltk in c:\\users\\emily\\appdata\\roaming\\python\\python39\\site-packages (3.5)\n",
      "Requirement already satisfied: click in c:\\users\\emily\\appdata\\roaming\\python\\python39\\site-packages (from nltk) (7.1.2)\n",
      "Requirement already satisfied: joblib in c:\\users\\emily\\appdata\\roaming\\python\\python39\\site-packages (from nltk) (0.17.0)\n",
      "Requirement already satisfied: regex in c:\\users\\emily\\appdata\\roaming\\python\\python39\\site-packages (from nltk) (2020.11.13)\n",
      "Requirement already satisfied: tqdm in c:\\users\\emily\\appdata\\roaming\\python\\python39\\site-packages (from nltk) (4.62.3)\n",
      "Requirement already satisfied: colorama in c:\\users\\emily\\appdata\\roaming\\python\\python39\\site-packages (from tqdm->nltk) (0.4.4)\n",
      "Note: you may need to restart the kernel to use updated packages.\n"
     ]
    },
    {
     "name": "stderr",
     "output_type": "stream",
     "text": [
      "WARNING: You are using pip version 21.3.1; however, version 22.0.3 is available.\n",
      "You should consider upgrading via the 'C:\\Program Files\\Python39\\python.exe -m pip install --upgrade pip' command.\n"
     ]
    },
    {
     "name": "stdout",
     "output_type": "stream",
     "text": [
      "Defaulting to user installation because normal site-packages is not writeable\n",
      "Requirement already satisfied: transformers in c:\\users\\emily\\appdata\\roaming\\python\\python39\\site-packages (4.12.4)\n",
      "Requirement already satisfied: tqdm>=4.27 in c:\\users\\emily\\appdata\\roaming\\python\\python39\\site-packages (from transformers) (4.62.3)\n",
      "Requirement already satisfied: packaging>=20.0 in c:\\users\\emily\\appdata\\roaming\\python\\python39\\site-packages (from transformers) (21.3)\n",
      "Requirement already satisfied: regex!=2019.12.17 in c:\\users\\emily\\appdata\\roaming\\python\\python39\\site-packages (from transformers) (2020.11.13)\n",
      "Requirement already satisfied: huggingface-hub<1.0,>=0.1.0 in c:\\users\\emily\\appdata\\roaming\\python\\python39\\site-packages (from transformers) (0.1.2)\n",
      "Requirement already satisfied: numpy>=1.17 in c:\\users\\emily\\appdata\\roaming\\python\\python39\\site-packages (from transformers) (1.21.3)\n",
      "Requirement already satisfied: tokenizers<0.11,>=0.10.1 in c:\\users\\emily\\appdata\\roaming\\python\\python39\\site-packages (from transformers) (0.10.3)\n",
      "Requirement already satisfied: requests in c:\\users\\emily\\appdata\\roaming\\python\\python39\\site-packages (from transformers) (2.26.0)Note: you may need to restart the kernel to use updated packages.\n",
      "Requirement already satisfied: sacremoses in c:\\users\\emily\\appdata\\roaming\\python\\python39\\site-packages (from transformers) (0.0.46)\n",
      "Requirement already satisfied: filelock in c:\\users\\emily\\appdata\\roaming\\python\\python39\\site-packages (from transformers) (3.4.0)\n",
      "Requirement already satisfied: pyyaml>=5.1 in c:\\users\\emily\\appdata\\roaming\\python\\python39\\site-packages (from transformers) (6.0)\n",
      "Requirement already satisfied: typing-extensions>=3.7.4.3 in c:\\users\\emily\\appdata\\roaming\\python\\python39\\site-packages (from huggingface-hub<1.0,>=0.1.0->transformers) (4.0.0)\n",
      "Requirement already satisfied: pyparsing!=3.0.5,>=2.0.2 in c:\\users\\emily\\appdata\\roaming\\python\\python39\\site-packages (from packaging>=20.0->transformers) (2.4.7)\n",
      "Requirement already satisfied: colorama in c:\\users\\emily\\appdata\\roaming\\python\\python39\\site-packages (from tqdm>=4.27->transformers) (0.4.4)\n",
      "Requirement already satisfied: certifi>=2017.4.17 in c:\\users\\emily\\appdata\\roaming\\python\\python39\\site-packages (from requests->transformers) (2021.10.8)\n",
      "Requirement already satisfied: idna<4,>=2.5 in c:\\users\\emily\\appdata\\roaming\\python\\python39\\site-packages (from requests->transformers) (3.3)\n",
      "Requirement already satisfied: urllib3<1.27,>=1.21.1 in c:\\users\\emily\\appdata\\roaming\\python\\python39\\site-packages (from requests->transformers) (1.26.7)\n",
      "Requirement already satisfied: charset-normalizer~=2.0.0 in c:\\users\\emily\\appdata\\roaming\\python\\python39\\site-packages (from requests->transformers) (2.0.7)\n",
      "Requirement already satisfied: six in c:\\users\\emily\\appdata\\roaming\\python\\python39\\site-packages (from sacremoses->transformers) (1.16.0)\n",
      "Requirement already satisfied: joblib in c:\\users\\emily\\appdata\\roaming\\python\\python39\\site-packages (from sacremoses->transformers) (0.17.0)\n",
      "Requirement already satisfied: click in c:\\users\\emily\\appdata\\roaming\\python\\python39\\site-packages (from sacremoses->transformers) (7.1.2)\n",
      "\n"
     ]
    },
    {
     "name": "stderr",
     "output_type": "stream",
     "text": [
      "WARNING: You are using pip version 21.3.1; however, version 22.0.3 is available.\n",
      "You should consider upgrading via the 'C:\\Program Files\\Python39\\python.exe -m pip install --upgrade pip' command.\n"
     ]
    }
   ],
   "source": [
    "#https://github.com/microsoft/vscode-jupyter/wiki/Installing-Python-packages-in-Jupyter-Notebooks\n",
    "%pip install tensorflow\n",
    "%pip install datasets\n",
    "%pip install torch\n",
    "%pip install nltk\n",
    "%pip install transformers"
   ]
  },
  {
   "cell_type": "code",
   "execution_count": 2,
   "metadata": {},
   "outputs": [],
   "source": [
    "# note: may take quite awhile to run\n",
    "from datasets import load_dataset\n",
    "from transformers import AutoTokenizer, BertForSequenceClassification, TrainingArguments\n",
    "import pandas as pd\n",
    "import numpy as np\n",
    "from sklearn.model_selection import train_test_split\n",
    "from sklearn.preprocessing import LabelEncoder\n",
    "import torch"
   ]
  },
  {
   "cell_type": "code",
   "execution_count": 3,
   "metadata": {},
   "outputs": [
    {
     "name": "stderr",
     "output_type": "stream",
     "text": [
      "Some weights of the model checkpoint at bert-base-uncased were not used when initializing BertForSequenceClassification: ['cls.predictions.transform.LayerNorm.bias', 'cls.predictions.transform.dense.bias', 'cls.predictions.transform.dense.weight', 'cls.seq_relationship.bias', 'cls.predictions.bias', 'cls.predictions.transform.LayerNorm.weight', 'cls.seq_relationship.weight', 'cls.predictions.decoder.weight']\n",
      "- This IS expected if you are initializing BertForSequenceClassification from the checkpoint of a model trained on another task or with another architecture (e.g. initializing a BertForSequenceClassification model from a BertForPreTraining model).\n",
      "- This IS NOT expected if you are initializing BertForSequenceClassification from the checkpoint of a model that you expect to be exactly identical (initializing a BertForSequenceClassification model from a BertForSequenceClassification model).\n",
      "Some weights of BertForSequenceClassification were not initialized from the model checkpoint at bert-base-uncased and are newly initialized: ['classifier.bias', 'classifier.weight']\n",
      "You should probably TRAIN this model on a down-stream task to be able to use it for predictions and inference.\n"
     ]
    }
   ],
   "source": [
    "# read csv and split train/test\n",
    "df = pd.read_csv('../static/nlp/data.csv')\n",
    "train_txt, test_txt, train_label, test_label = train_test_split(df['question'], df['label'], test_size=0.2, random_state=42)\n",
    "\n",
    "# encode text\n",
    "pretrained = 'bert-base-uncased'\n",
    "tokenizer = AutoTokenizer.from_pretrained(pretrained)\n",
    "train_t = tokenizer(train_txt.tolist(), truncation=True, padding=True)\n",
    "\n",
    "labelencoder = LabelEncoder()\n",
    "train_l = labelencoder.fit_transform(train_label.tolist())\n",
    "test_l = labelencoder.fit_transform(test_label.tolist())\n",
    "\n",
    "# Create torch dataset\n",
    "class Dataset(torch.utils.data.Dataset):\n",
    "    def __init__(self, encodings, labels=None):\n",
    "        self.encodings = encodings\n",
    "        self.labels = labels\n",
    "\n",
    "    def __getitem__(self, idx):\n",
    "        item = {key: torch.tensor(val[idx]) for key, val in self.encodings.items()}\n",
    "        if self.labels:\n",
    "            item[\"labels\"] = torch.tensor(self.labels[idx])\n",
    "        return item\n",
    "\n",
    "    def __len__(self):\n",
    "        return len(self.encodings[\"input_ids\"])\n",
    "\n",
    "\n",
    "# function for preparing the test dataset for prediction as well as customer's input qns. \n",
    "#train dataset don't need to have function as it would not have a new dataset such as the customer input in the chatbot\n",
    "def preparing(testq, tokenizer):\n",
    "    testq_list = testq.tolist()\n",
    "    test_t = tokenizer(testq_list, truncation=True, padding=True)\n",
    "    return test_t\n",
    "\n",
    "train_dataset = Dataset(train_t, train_l.tolist())\n",
    "test_dataset = Dataset(preparing(test_txt,tokenizer), test_l.tolist())\n",
    "\n",
    "# load model\n",
    "model = BertForSequenceClassification.from_pretrained(pretrained, num_labels=len(np.unique(train_l)))\n",
    "\n",
    "# training\n",
    "training_args = TrainingArguments(\"test_trainer\", num_train_epochs=10)\n"
   ]
  },
  {
   "cell_type": "code",
   "execution_count": 4,
   "metadata": {},
   "outputs": [],
   "source": [
    "# getting metric such as accuracy of model\n",
    "# huggingface's metric was used to check the model's accuracy and other scores during training\n",
    "from sklearn.metrics import precision_recall_fscore_support\n",
    "from sklearn.metrics import accuracy_score\n",
    "\n",
    "def compute_metrics(pred):\n",
    "    logits, labels = pred\n",
    "    labels = pred.label_ids\n",
    "    preds = pred.predictions.argmax(-1)\n",
    "    precision, recall, f1, _ = precision_recall_fscore_support(labels, preds, average='micro')\n",
    "    acc = accuracy_score(labels, preds)\n",
    "    return {\n",
    "        'accuracy': acc,\n",
    "        'f1': f1,\n",
    "        'precision': precision,\n",
    "        'recall': recall\n",
    "    }\n"
   ]
  },
  {
   "cell_type": "code",
   "execution_count": 5,
   "metadata": {},
   "outputs": [
    {
     "name": "stderr",
     "output_type": "stream",
     "text": [
      "***** Running training *****\n",
      "  Num examples = 2930\n",
      "  Num Epochs = 10\n",
      "  Instantaneous batch size per device = 8\n",
      "  Total train batch size (w. parallel, distributed & accumulation) = 8\n",
      "  Gradient Accumulation steps = 1\n",
      "  Total optimization steps = 3670\n",
      " 14%|█▎        | 500/3670 [20:41<2:15:47,  2.57s/it]Saving model checkpoint to test_trainer\\checkpoint-500\n",
      "Configuration saved in test_trainer\\checkpoint-500\\config.json\n"
     ]
    },
    {
     "name": "stdout",
     "output_type": "stream",
     "text": [
      "{'loss': 0.9411, 'learning_rate': 4.3188010899182565e-05, 'epoch': 1.36}\n"
     ]
    },
    {
     "name": "stderr",
     "output_type": "stream",
     "text": [
      "Model weights saved in test_trainer\\checkpoint-500\\pytorch_model.bin\n",
      " 27%|██▋       | 1000/3670 [42:36<1:53:25,  2.55s/it]Saving model checkpoint to test_trainer\\checkpoint-1000\n",
      "Configuration saved in test_trainer\\checkpoint-1000\\config.json\n"
     ]
    },
    {
     "name": "stdout",
     "output_type": "stream",
     "text": [
      "{'loss': 0.0758, 'learning_rate': 3.637602179836512e-05, 'epoch': 2.72}\n"
     ]
    },
    {
     "name": "stderr",
     "output_type": "stream",
     "text": [
      "Model weights saved in test_trainer\\checkpoint-1000\\pytorch_model.bin\n",
      " 41%|████      | 1500/3670 [1:03:25<1:25:05,  2.35s/it]Saving model checkpoint to test_trainer\\checkpoint-1500\n",
      "Configuration saved in test_trainer\\checkpoint-1500\\config.json\n"
     ]
    },
    {
     "name": "stdout",
     "output_type": "stream",
     "text": [
      "{'loss': 0.0413, 'learning_rate': 2.9564032697547683e-05, 'epoch': 4.09}\n"
     ]
    },
    {
     "name": "stderr",
     "output_type": "stream",
     "text": [
      "Model weights saved in test_trainer\\checkpoint-1500\\pytorch_model.bin\n",
      " 54%|█████▍    | 2000/3670 [1:23:27<1:21:05,  2.91s/it]Saving model checkpoint to test_trainer\\checkpoint-2000\n",
      "Configuration saved in test_trainer\\checkpoint-2000\\config.json\n"
     ]
    },
    {
     "name": "stdout",
     "output_type": "stream",
     "text": [
      "{'loss': 0.0069, 'learning_rate': 2.2752043596730245e-05, 'epoch': 5.45}\n"
     ]
    },
    {
     "name": "stderr",
     "output_type": "stream",
     "text": [
      "Model weights saved in test_trainer\\checkpoint-2000\\pytorch_model.bin\n",
      " 68%|██████▊   | 2500/3670 [1:43:21<49:24,  2.53s/it]  Saving model checkpoint to test_trainer\\checkpoint-2500\n",
      "Configuration saved in test_trainer\\checkpoint-2500\\config.json\n"
     ]
    },
    {
     "name": "stdout",
     "output_type": "stream",
     "text": [
      "{'loss': 0.0014, 'learning_rate': 1.5940054495912807e-05, 'epoch': 6.81}\n"
     ]
    },
    {
     "name": "stderr",
     "output_type": "stream",
     "text": [
      "Model weights saved in test_trainer\\checkpoint-2500\\pytorch_model.bin\n",
      " 82%|████████▏ | 3000/3670 [2:10:11<29:50,  2.67s/it]  Saving model checkpoint to test_trainer\\checkpoint-3000\n",
      "Configuration saved in test_trainer\\checkpoint-3000\\config.json\n"
     ]
    },
    {
     "name": "stdout",
     "output_type": "stream",
     "text": [
      "{'loss': 0.0012, 'learning_rate': 9.128065395095368e-06, 'epoch': 8.17}\n"
     ]
    },
    {
     "name": "stderr",
     "output_type": "stream",
     "text": [
      "Model weights saved in test_trainer\\checkpoint-3000\\pytorch_model.bin\n",
      " 95%|█████████▌| 3500/3670 [2:32:26<07:38,  2.70s/it]Saving model checkpoint to test_trainer\\checkpoint-3500\n",
      "Configuration saved in test_trainer\\checkpoint-3500\\config.json\n"
     ]
    },
    {
     "name": "stdout",
     "output_type": "stream",
     "text": [
      "{'loss': 0.0006, 'learning_rate': 2.3160762942779292e-06, 'epoch': 9.54}\n"
     ]
    },
    {
     "name": "stderr",
     "output_type": "stream",
     "text": [
      "Model weights saved in test_trainer\\checkpoint-3500\\pytorch_model.bin\n",
      "100%|██████████| 3670/3670 [2:40:07<00:00,  2.29s/it]\n",
      "\n",
      "Training completed. Do not forget to share your model on huggingface.co/models =)\n",
      "\n",
      "\n",
      "100%|██████████| 3670/3670 [2:40:07<00:00,  2.62s/it]"
     ]
    },
    {
     "name": "stdout",
     "output_type": "stream",
     "text": [
      "{'train_runtime': 9607.937, 'train_samples_per_second': 3.05, 'train_steps_per_second': 0.382, 'train_loss': 0.14555174255850203, 'epoch': 10.0}\n"
     ]
    },
    {
     "name": "stderr",
     "output_type": "stream",
     "text": [
      "\n"
     ]
    },
    {
     "data": {
      "text/plain": [
       "TrainOutput(global_step=3670, training_loss=0.14555174255850203, metrics={'train_runtime': 9607.937, 'train_samples_per_second': 3.05, 'train_steps_per_second': 0.382, 'train_loss': 0.14555174255850203, 'epoch': 10.0})"
      ]
     },
     "execution_count": 5,
     "metadata": {},
     "output_type": "execute_result"
    }
   ],
   "source": [
    "from transformers import Trainer\n",
    "trainer = Trainer(\n",
    "    model=model, args=training_args, train_dataset=train_dataset, eval_dataset=test_dataset\n",
    ")\n",
    "trainer.train()\n",
    "\n",
    "# eg if customer ask in chatbot, start by tokenizing the question first\n",
    "#customer = np.array(['Duration of my plans covering me'])\n",
    "#qns = Dataset(preparing(customer,tokenizer))\n",
    "#ans = trainer.predict(qns).predictions.argmax(1)\n",
    "#result = labelencoder.inverse_transform(ans)\n",
    "#print(\"The label is:\", result[0])"
   ]
  },
  {
   "cell_type": "code",
   "execution_count": 6,
   "metadata": {},
   "outputs": [],
   "source": [
    "# save the model to disk\n",
    "#file might be too large to push\n",
    "\n",
    "# Save to file in the static directory\n",
    "file_location = \"../static/nlp/example.pt\"\n",
    "torch.save(model, file_location)\n",
    "ai_model = torch.load(file_location)"
   ]
  },
  {
   "cell_type": "code",
   "execution_count": 7,
   "metadata": {},
   "outputs": [
    {
     "name": "stderr",
     "output_type": "stream",
     "text": [
      "No `TrainingArguments` passed, using `output_dir=tmp_trainer`.\n",
      "PyTorch: setting up devices\n",
      "The default value for the training argument `--report_to` will change in v5 (from all installed integrations to none). In v5, you will need to use `--report_to all` to get the same behavior as now. You should start updating your code and make this info disappear :-).\n"
     ]
    },
    {
     "name": "stdout",
     "output_type": "stream",
     "text": [
      "Has access to GPU:  False\n"
     ]
    },
    {
     "name": "stderr",
     "output_type": "stream",
     "text": [
      "***** Running Prediction *****\n",
      "  Num examples = 1\n",
      "  Batch size = 8\n",
      "  0%|          | 0/1 [00:00<?, ?it/s]"
     ]
    },
    {
     "name": "stdout",
     "output_type": "stream",
     "text": [
      "The label is: insurer\n"
     ]
    }
   ],
   "source": [
    "print('Has access to GPU: ', torch.cuda.is_available())\n",
    "\n",
    "trainer = Trainer(\n",
    "            model=ai_model\n",
    "        )\n",
    "\n",
    "customer = np.array(['insurier'])\n",
    "qns = Dataset(preparing(customer,tokenizer))\n",
    "ans = trainer.predict(qns).predictions.argmax(1)\n",
    "result = labelencoder.inverse_transform(ans)\n",
    "print(\"The label is:\", result[0])"
   ]
  }
 ],
 "metadata": {
  "interpreter": {
   "hash": "cdd2fbf79225e4a9c36d7669d9b8de571d94653c08591836200e6fca4301ed09"
  },
  "kernelspec": {
   "display_name": "Python 3.7.6 64-bit ('base': conda)",
   "language": "python",
   "name": "python3"
  },
  "language_info": {
   "codemirror_mode": {
    "name": "ipython",
    "version": 3
   },
   "file_extension": ".py",
   "mimetype": "text/x-python",
   "name": "python",
   "nbconvert_exporter": "python",
   "pygments_lexer": "ipython3",
   "version": "3.9.0"
  },
  "orig_nbformat": 4
 },
 "nbformat": 4,
 "nbformat_minor": 2
}
